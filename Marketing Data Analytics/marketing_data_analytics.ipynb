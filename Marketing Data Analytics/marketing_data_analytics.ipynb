{
  "cells": [
    {
      "cell_type": "markdown",
      "metadata": {
        "id": "pesWvBw65dUJ"
      },
      "source": [
        "#### Loading the Data <a class=\"anchor\" id=\"section1_1\"></a>\n",
        "First, the necessary libraries are loaded into the notebook. The pandas library is used to import data from marketing_data.csv and preview the first five rows of the DataFrame."
      ]
    },
    {
      "cell_type": "code",
      "execution_count": null,
      "metadata": {
        "id": "q5jcNvXE5dUK"
      },
      "outputs": [],
      "source": [
        "# sets up matplotlib with interactive features\n",
        "%matplotlib notebook\n",
        "import pandas as pd\n",
        "import seaborn as sns\n",
        "import matplotlib.pyplot as plt\n",
        "import numpy as np\n",
        "import re"
      ]
    },
    {
      "cell_type": "code",
      "execution_count": null,
      "metadata": {
        "id": "VyZ3fRqx5dUL"
      },
      "outputs": [],
      "source": [
        "marketing_data = pd.read_csv(\"marketing_data.csv\")\n",
        "# see all columns\n",
        "pd.set_option('display.max_columns', None)\n",
        "marketing_data.head()\n",
        "\n",
        "import warnings\n",
        "warnings.filterwarnings('ignore')"
      ]
    },
    {
      "cell_type": "markdown",
      "metadata": {
        "id": "jTYgc39l5dUM"
      },
      "source": [
        "#### Data Information <a class=\"anchor\" id=\"section1_2\"></a>\n",
        "\n",
        "Some immediate insights are:\n",
        "* There are 28 columns and 2240 rows.\n",
        "* The name and datatype of each column -- most values are integers in this dataset.\n",
        "* The ` income` column has missing data, values that are not integers or floats, and an extra space in the column name, so some cleaning will be necessary for this column prior to conducting EDA.\n",
        "* The column names could be renamed for more consistency.\n",
        "* Some basic summary statistics on each of the numerical variables."
      ]
    },
    {
      "cell_type": "code",
      "execution_count": null,
      "metadata": {
        "id": "W0ci2iFu5dUM",
        "outputId": "bc6f6d65-b03c-43fd-aea5-fc4f141488b8"
      },
      "outputs": [
        {
          "data": {
            "text/plain": [
              "Index(['id', 'YearBirth', 'Education', 'MaritalStatus', 'Income', 'Kidhome',\n",
              "       'Teenhome', 'DtCustomer', 'Recency', 'MntWines', 'MntFruits',\n",
              "       'MntMeatProducts', 'MntFishProducts', 'MntSweetProducts',\n",
              "       'MntGoldProducts', 'NumDealsPurchases', 'NumWebPurchases',\n",
              "       'NumCatalogPurchases', 'NumStorePurchases', 'NumWebVisitsMonth',\n",
              "       'AcceptedCmp3', 'AcceptedCmp4', 'AcceptedCmp5', 'AcceptedCmp1',\n",
              "       'AcceptedCmp2', 'Response', 'Complain', 'Country'],\n",
              "      dtype='object')"
            ]
          },
          "execution_count": 3,
          "metadata": {},
          "output_type": "execute_result"
        }
      ],
      "source": [
        "marketing_data.columns"
      ]
    },
    {
      "cell_type": "code",
      "execution_count": null,
      "metadata": {
        "id": "0xn4-1Uo5dUN",
        "outputId": "38b6341d-9ee4-4c31-fea5-046d28d1bf52"
      },
      "outputs": [
        {
          "name": "stdout",
          "output_type": "stream",
          "text": [
            "<class 'pandas.core.frame.DataFrame'>\n",
            "RangeIndex: 2240 entries, 0 to 2239\n",
            "Data columns (total 28 columns):\n",
            " #   Column               Non-Null Count  Dtype \n",
            "---  ------               --------------  ----- \n",
            " 0   id                   2240 non-null   int64 \n",
            " 1   YearBirth            2240 non-null   int64 \n",
            " 2   Education            2240 non-null   object\n",
            " 3   MaritalStatus        2240 non-null   object\n",
            " 4   Income               2216 non-null   object\n",
            " 5   Kidhome              2240 non-null   int64 \n",
            " 6   Teenhome             2240 non-null   int64 \n",
            " 7   DtCustomer           2240 non-null   object\n",
            " 8   Recency              2240 non-null   int64 \n",
            " 9   MntWines             2240 non-null   int64 \n",
            " 10  MntFruits            2240 non-null   int64 \n",
            " 11  MntMeatProducts      2240 non-null   int64 \n",
            " 12  MntFishProducts      2240 non-null   int64 \n",
            " 13  MntSweetProducts     2240 non-null   int64 \n",
            " 14  MntGoldProducts      2240 non-null   int64 \n",
            " 15  NumDealsPurchases    2240 non-null   int64 \n",
            " 16  NumWebPurchases      2240 non-null   int64 \n",
            " 17  NumCatalogPurchases  2240 non-null   int64 \n",
            " 18  NumStorePurchases    2240 non-null   int64 \n",
            " 19  NumWebVisitsMonth    2240 non-null   int64 \n",
            " 20  AcceptedCmp3         2240 non-null   int64 \n",
            " 21  AcceptedCmp4         2240 non-null   int64 \n",
            " 22  AcceptedCmp5         2240 non-null   int64 \n",
            " 23  AcceptedCmp1         2240 non-null   int64 \n",
            " 24  AcceptedCmp2         2240 non-null   int64 \n",
            " 25  Response             2240 non-null   int64 \n",
            " 26  Complain             2240 non-null   int64 \n",
            " 27  Country              2240 non-null   object\n",
            "dtypes: int64(23), object(5)\n",
            "memory usage: 490.1+ KB\n"
          ]
        }
      ],
      "source": [
        "marketing_data.info()"
      ]
    },
    {
      "cell_type": "code",
      "execution_count": null,
      "metadata": {
        "id": "VpG3fTNX5dUP",
        "outputId": "58829677-c5f1-4911-b1af-363c1eb406f9"
      },
      "outputs": [
        {
          "data": {
            "text/plain": [
              "id                      0\n",
              "YearBirth               0\n",
              "Education               0\n",
              "MaritalStatus           0\n",
              "Income                 24\n",
              "Kidhome                 0\n",
              "Teenhome                0\n",
              "DtCustomer              0\n",
              "Recency                 0\n",
              "MntWines                0\n",
              "MntFruits               0\n",
              "MntMeatProducts         0\n",
              "MntFishProducts         0\n",
              "MntSweetProducts        0\n",
              "MntGoldProducts         0\n",
              "NumDealsPurchases       0\n",
              "NumWebPurchases         0\n",
              "NumCatalogPurchases     0\n",
              "NumStorePurchases       0\n",
              "NumWebVisitsMonth       0\n",
              "AcceptedCmp3            0\n",
              "AcceptedCmp4            0\n",
              "AcceptedCmp5            0\n",
              "AcceptedCmp1            0\n",
              "AcceptedCmp2            0\n",
              "Response                0\n",
              "Complain                0\n",
              "Country                 0\n",
              "dtype: int64"
            ]
          },
          "execution_count": 5,
          "metadata": {},
          "output_type": "execute_result"
        }
      ],
      "source": [
        "# see what columns have missing data\n",
        "marketing_data.isnull().sum()"
      ]
    },
    {
      "cell_type": "code",
      "execution_count": null,
      "metadata": {
        "id": "FBRbjKA-5dUP",
        "outputId": "192c8693-31be-4b30-8306-8db0b6bccc6e"
      },
      "outputs": [
        {
          "name": "stdout",
          "output_type": "stream",
          "text": [
            "                 id    YearBirth      Kidhome     Teenhome      Recency  \\\n",
            "count   2240.000000  2240.000000  2240.000000  2240.000000  2240.000000   \n",
            "mean    5592.159821  1968.805804     0.444196     0.506250    49.109375   \n",
            "std     3246.662198    11.984069     0.538398     0.544538    28.962453   \n",
            "min        0.000000  1893.000000     0.000000     0.000000     0.000000   \n",
            "25%     2828.250000  1959.000000     0.000000     0.000000    24.000000   \n",
            "50%     5458.500000  1970.000000     0.000000     0.000000    49.000000   \n",
            "75%     8427.750000  1977.000000     1.000000     1.000000    74.000000   \n",
            "max    11191.000000  1996.000000     2.000000     2.000000    99.000000   \n",
            "\n",
            "          MntWines    MntFruits  MntMeatProducts  MntFishProducts  \\\n",
            "count  2240.000000  2240.000000      2240.000000      2240.000000   \n",
            "mean    303.935714    26.302232       166.950000        37.525446   \n",
            "std     336.597393    39.773434       225.715373        54.628979   \n",
            "min       0.000000     0.000000         0.000000         0.000000   \n",
            "25%      23.750000     1.000000        16.000000         3.000000   \n",
            "50%     173.500000     8.000000        67.000000        12.000000   \n",
            "75%     504.250000    33.000000       232.000000        50.000000   \n",
            "max    1493.000000   199.000000      1725.000000       259.000000   \n",
            "\n",
            "       MntSweetProducts  MntGoldProducts  NumDealsPurchases  NumWebPurchases  \\\n",
            "count       2240.000000      2240.000000        2240.000000      2240.000000   \n",
            "mean          27.062946        44.021875           2.325000         4.084821   \n",
            "std           41.280498        52.167439           1.932238         2.778714   \n",
            "min            0.000000         0.000000           0.000000         0.000000   \n",
            "25%            1.000000         9.000000           1.000000         2.000000   \n",
            "50%            8.000000        24.000000           2.000000         4.000000   \n",
            "75%           33.000000        56.000000           3.000000         6.000000   \n",
            "max          263.000000       362.000000          15.000000        27.000000   \n",
            "\n",
            "       NumCatalogPurchases  NumStorePurchases  NumWebVisitsMonth  \\\n",
            "count          2240.000000        2240.000000        2240.000000   \n",
            "mean              2.662054           5.790179           5.316518   \n",
            "std               2.923101           3.250958           2.426645   \n",
            "min               0.000000           0.000000           0.000000   \n",
            "25%               0.000000           3.000000           3.000000   \n",
            "50%               2.000000           5.000000           6.000000   \n",
            "75%               4.000000           8.000000           7.000000   \n",
            "max              28.000000          13.000000          20.000000   \n",
            "\n",
            "       AcceptedCmp3  AcceptedCmp4  AcceptedCmp5  AcceptedCmp1  AcceptedCmp2  \\\n",
            "count   2240.000000   2240.000000   2240.000000   2240.000000   2240.000000   \n",
            "mean       0.072768      0.074554      0.072768      0.064286      0.013393   \n",
            "std        0.259813      0.262728      0.259813      0.245316      0.114976   \n",
            "min        0.000000      0.000000      0.000000      0.000000      0.000000   \n",
            "25%        0.000000      0.000000      0.000000      0.000000      0.000000   \n",
            "50%        0.000000      0.000000      0.000000      0.000000      0.000000   \n",
            "75%        0.000000      0.000000      0.000000      0.000000      0.000000   \n",
            "max        1.000000      1.000000      1.000000      1.000000      1.000000   \n",
            "\n",
            "          Response     Complain  \n",
            "count  2240.000000  2240.000000  \n",
            "mean      0.149107     0.009375  \n",
            "std       0.356274     0.096391  \n",
            "min       0.000000     0.000000  \n",
            "25%       0.000000     0.000000  \n",
            "50%       0.000000     0.000000  \n",
            "75%       0.000000     0.000000  \n",
            "max       1.000000     1.000000  \n"
          ]
        }
      ],
      "source": [
        "print(marketing_data.describe())"
      ]
    },
    {
      "cell_type": "markdown",
      "metadata": {
        "id": "HfAHls8-ESq2"
      },
      "source": [
        "#### Data Cleaning <a class=\"anchor\" id=\"cleaning\"></a>\n",
        "\n",
        "As mentioned before, the `Income` column could use some cleaning. The column names overall could also be renamed for more consistency. To do this, the following is done:\n",
        "* Put all columns in [snake case format](https://www.ssc.wisc.edu/sscc/pubs/DWE/book/4-2-naming-variables.html) using regex and list comprehension\n",
        "* Change `Income` values to floats\n",
        "* Set the values as floats\n",
        "\n",
        "The `Income` distribution is then looked at using boxplots. Since there is one large outlier, it is removed from the `marketing_data`. Next, the missing values are replaced with the mean income using the `.mean()` method.\n",
        "\n",
        "`Income` is one of the main variables that will be explored in the analysis, so it is essential that it is tidy and ready for exploration"
      ]
    },
    {
      "cell_type": "code",
      "execution_count": null,
      "metadata": {
        "id": "a6cCo0-AESq3"
      },
      "outputs": [],
      "source": [
        "# Clean Columns\n",
        "\n",
        "#taking dollar sign out of values and convert to float\n",
        "marketing_data['Income'] = marketing_data['Income'].replace('[\\$,]', '', regex=True).astype(float)\n",
        "\n",
        "# summary stats\n",
        "marketing_data['Income'].describe()\n",
        "\n",
        "# put all columns into snake case format\n",
        "marketing_data.columns = [re.sub(r'(?<!^)(?=[A-Z])', '_', x).lower() for x in marketing_data.columns]"
      ]
    }
  ],
  "metadata": {
    "kernelspec": {
      "display_name": "Python 3",
      "language": "python",
      "name": "python3"
    },
    "language_info": {
      "codemirror_mode": {
        "name": "ipython",
        "version": 3
      },
      "file_extension": ".py",
      "mimetype": "text/x-python",
      "name": "python",
      "nbconvert_exporter": "python",
      "pygments_lexer": "ipython3",
      "version": "3.7.6"
    },
    "colab": {
      "provenance": []
    }
  },
  "nbformat": 4,
  "nbformat_minor": 0
}