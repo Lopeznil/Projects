{
  "nbformat": 4,
  "nbformat_minor": 0,
  "metadata": {
    "colab": {
      "provenance": [],
      "authorship_tag": "ABX9TyOwTBtUHtInuq+gs0/WCoUB"
    },
    "kernelspec": {
      "name": "python3",
      "display_name": "Python 3"
    },
    "language_info": {
      "name": "python"
    }
  },
  "cells": [
    {
      "cell_type": "code",
      "execution_count": null,
      "metadata": {
        "id": "GmqoOx63XFC8"
      },
      "outputs": [],
      "source": [
        "#Import libraries\n",
        "import pandas as pd\n",
        "import numpy as np"
      ]
    },
    {
      "cell_type": "code",
      "source": [
        "#Load csv data\n",
        "census_data = pd.read_csv(\"cfs_2012_pumf_csv.txt\")"
      ],
      "metadata": {
        "id": "y0am7tbXX7wf"
      },
      "execution_count": null,
      "outputs": []
    }
  ]
}