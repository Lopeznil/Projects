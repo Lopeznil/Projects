{
  "nbformat": 4,
  "nbformat_minor": 0,
  "metadata": {
    "colab": {
      "provenance": [],
      "authorship_tag": "ABX9TyPY/0A/Ei7ElMl+TQaYmKrA"
    },
    "kernelspec": {
      "name": "python3",
      "display_name": "Python 3"
    },
    "language_info": {
      "name": "python"
    }
  },
  "cells": [
    {
      "cell_type": "markdown",
      "source": [
        "***Install RDKit***\n",
        "\n",
        "---\n",
        "\n"
      ],
      "metadata": {
        "id": "IlLQuS_tk7zg"
      }
    },
    {
      "cell_type": "code",
      "source": [
        "!pip install -q condacolab\n",
        "import condacolab\n",
        "condacolab.install()\n",
        "!conda install -c conda-forge rdkit -y"
      ],
      "metadata": {
        "colab": {
          "base_uri": "https://localhost:8080/"
        },
        "collapsed": true,
        "id": "oILyriuDk3tB",
        "outputId": "fbe77dbf-99bc-4c43-d439-a6a9bded70a2"
      },
      "execution_count": 2,
      "outputs": [
        {
          "output_type": "stream",
          "name": "stdout",
          "text": [
            "✨🍰✨ Everything looks OK!\n",
            "Channels:\n",
            " - conda-forge\n",
            "Platform: linux-64\n",
            "Collecting package metadata (repodata.json): - \b\b\\ \b\b| \b\b/ \b\b- \b\b\\ \b\b| \b\b/ \b\b- \b\b\\ \b\b| \b\b/ \b\b- \b\b\\ \b\b| \b\b/ \b\b- \b\b\\ \b\b| \b\b/ \b\b- \b\b\\ \b\b| \b\b/ \b\b- \b\b\\ \b\b| \b\b/ \b\b- \b\b\\ \b\b| \b\b/ \b\b- \b\b\\ \b\b| \b\b/ \b\b- \b\b\\ \b\b| \b\b/ \b\b- \b\b\\ \b\b| \b\b/ \b\b- \b\b\\ \b\b| \b\b/ \b\b- \b\b\\ \b\b| \b\b/ \b\b- \b\b\\ \b\b| \b\b/ \b\b- \b\b\\ \b\b| \b\b/ \b\b- \b\b\\ \b\b| \b\b/ \b\b- \b\b\\ \b\b| \b\b/ \b\b- \b\b\\ \b\b| \b\b/ \b\b- \b\b\\ \b\b| \b\b/ \b\b- \b\b\\ \b\b| \b\b/ \b\b- \b\b\\ \b\b| \b\b/ \b\b- \b\b\\ \b\b| \b\b/ \b\b- \b\b\\ \b\b| \b\b/ \b\b- \b\b\\ \b\b| \b\b/ \b\b- \b\b\\ \b\b| \b\b/ \b\b- \b\b\\ \b\b| \b\b/ \b\b- \b\b\\ \b\b| \b\b/ \b\b- \b\b\\ \b\b| \b\b/ \b\b- \b\b\\ \b\b| \b\b/ \b\b- \b\b\\ \b\b| \b\b/ \b\b- \b\b\\ \b\b| \b\b/ \b\b- \b\b\\ \b\b| \b\b/ \b\b- \b\b\\ \b\b| \b\b/ \b\b- \b\b\\ \b\b| \b\b/ \b\b- \b\b\\ \b\b| \b\b/ \b\b- \b\b\\ \b\b| \b\b/ \b\b- \b\b\\ \b\b| \b\b/ \b\b- \b\b\\ \b\b| \b\b/ \b\b- \b\b\\ \b\b| \b\b/ \b\b- \b\b\\ \b\b| \b\b/ \b\b- \b\b\\ \b\b| \b\b/ \b\b- \b\b\\ \b\b| \b\b/ \b\b- \b\b\\ \b\b| \b\b/ \b\b- \b\b\\ \b\b| \b\b/ \b\b- \b\b\\ \b\b| \b\b/ \b\b- \b\b\\ \b\b| \b\b/ \b\b- \b\b\\ \b\b| \b\b/ \b\b- \b\b\\ \b\b| \b\b/ \b\b- \b\b\\ \b\b| \b\b/ \b\b- \b\b\\ \b\b| \b\b/ \b\b- \b\b\\ \b\b| \b\b/ \b\b- \b\b\\ \b\b| \b\b/ \b\b- \b\b\\ \b\b| \b\b/ \b\b- \b\b\\ \b\b| \b\b/ \b\b- \b\b\\ \b\b| \b\b/ \b\b- \b\b\\ \b\b| \b\b/ \b\b- \b\b\\ \b\b| \b\b/ \b\b- \b\b\\ \b\b| \b\b/ \b\b- \b\b\\ \b\b| \b\b/ \b\b- \b\b\\ \b\b| \b\b/ \b\b- \b\b\\ \b\b| \b\b/ \b\b- \b\b\\ \b\b| \b\b/ \b\b- \b\b\\ \b\b| \b\b/ \b\b- \b\b\\ \b\b| \b\b/ \b\b- \b\b\\ \b\b| \b\b/ \b\b- \b\b\\ \b\b| \b\b/ \b\b- \b\b\\ \b\b| \b\b/ \b\b- \b\b\\ \b\b| \b\b/ \b\b- \b\b\\ \b\b| \b\bdone\n",
            "Solving environment: - \b\b\\ \b\b| \b\b/ \b\b- \b\b\\ \b\b| \b\bdone\n",
            "\n",
            "\n",
            "==> WARNING: A newer version of conda exists. <==\n",
            "    current version: 23.11.0\n",
            "    latest version: 24.11.0\n",
            "\n",
            "Please update conda by running\n",
            "\n",
            "    $ conda update -n base -c conda-forge conda\n",
            "\n",
            "\n",
            "\n",
            "# All requested packages already installed.\n",
            "\n"
          ]
        }
      ]
    },
    {
      "cell_type": "code",
      "source": [
        "!pip install scikit-learn --upgrade"
      ],
      "metadata": {
        "colab": {
          "base_uri": "https://localhost:8080/"
        },
        "id": "_Evjx5RVo8Lz",
        "outputId": "4860235b-4368-4478-af32-19d6f9e75a96"
      },
      "execution_count": 11,
      "outputs": [
        {
          "output_type": "stream",
          "name": "stdout",
          "text": [
            "Requirement already satisfied: scikit-learn in /usr/local/lib/python3.10/site-packages (1.5.2)\n",
            "Requirement already satisfied: numpy>=1.19.5 in /usr/local/lib/python3.10/site-packages (from scikit-learn) (2.1.3)\n",
            "Requirement already satisfied: scipy>=1.6.0 in /usr/local/lib/python3.10/site-packages (from scikit-learn) (1.14.1)\n",
            "Requirement already satisfied: joblib>=1.2.0 in /usr/local/lib/python3.10/site-packages (from scikit-learn) (1.4.2)\n",
            "Requirement already satisfied: threadpoolctl>=3.1.0 in /usr/local/lib/python3.10/site-packages (from scikit-learn) (3.5.0)\n"
          ]
        }
      ]
    },
    {
      "cell_type": "markdown",
      "source": [
        "***Import packages***\n",
        "\n",
        "---\n",
        "\n"
      ],
      "metadata": {
        "id": "rlHIFZPgkjq2"
      }
    },
    {
      "cell_type": "code",
      "source": [
        "from sklearn import datasets, metrics\n",
        "\n",
        "from sklearn.model_selection import train_test_split\n",
        "\n",
        "from sklearn.preprocessing import MinMaxScaler\n",
        "\n",
        "from sklearn.metrics import r2_score, root_mean_squared_error\n",
        "\n",
        "from sklearn.gaussian_process import GaussianProcessRegressor\n",
        "\n",
        "from sklearn.gaussian_process.kernels import RBF, ConstantKernel as C\n",
        "\n",
        "from sklearn.ensemble import RandomForestRegressor\n",
        "\n",
        "import numpy as np\n",
        "import pandas as pd\n",
        "\n",
        "from rdkit.Chem import AllChem\n",
        "from rdkit.Chem import rdFingerprintGenerator\n",
        "from rdkit import Chem"
      ],
      "metadata": {
        "id": "3wO6zeyZknBZ"
      },
      "execution_count": 1,
      "outputs": []
    },
    {
      "cell_type": "markdown",
      "source": [
        "***Load Data***\n",
        "\n",
        "---\n",
        "\n"
      ],
      "metadata": {
        "id": "oqaYoZ5am7GZ"
      }
    },
    {
      "cell_type": "code",
      "source": [
        "Data = pd.read_csv(\"/content/DATA.csv\")"
      ],
      "metadata": {
        "id": "CM8y2XYVleRZ"
      },
      "execution_count": 2,
      "outputs": []
    },
    {
      "cell_type": "code",
      "source": [
        "X_data = Data[['Tg(K)', 'Td_1/2(K)']]"
      ],
      "metadata": {
        "id": "mRFjKmL8oC3e"
      },
      "execution_count": null,
      "outputs": []
    },
    {
      "cell_type": "code",
      "source": [
        "Y_data = Data['log10(P_CO2(Barrer))']"
      ],
      "metadata": {
        "id": "zPFjKs_kxgoV"
      },
      "execution_count": 377,
      "outputs": []
    },
    {
      "cell_type": "markdown",
      "source": [
        "***Normalize X_data***\n",
        "---\n",
        "\n"
      ],
      "metadata": {
        "id": "bc5y2cXeve9Z"
      }
    },
    {
      "cell_type": "code",
      "source": [
        "#Does not include fingerprints | Use MinMax (0-1) to binary fingerprints.\n",
        "scaler = MinMaxScaler()\n",
        "normalized_data = scaler.fit_transform(X_data)\n",
        "X_data_normalized = pd.DataFrame(normalized_data, columns=X_data.columns)"
      ],
      "metadata": {
        "id": "jPqJsYM2vg-v"
      },
      "execution_count": null,
      "outputs": []
    },
    {
      "cell_type": "markdown",
      "source": [
        "***Define function to convert Opsin Smiles to fingerprint Dataframe.***\n",
        "\n",
        "---\n",
        "\n"
      ],
      "metadata": {
        "id": "FES-NkMsovB9"
      }
    },
    {
      "cell_type": "code",
      "source": [
        "def SmiletoFingerprint(smiles):\n",
        "  \"\"\"\n",
        "\n",
        "  Args:\n",
        "    smiles: Series object of smiles.\n",
        "\n",
        "  Returns: Dataframe of fingerprints.\n",
        "\n",
        "  \"\"\"\n",
        "#Initialize Fingerprint list, GENERATOR and iterate over smiles in data to get fingerprints.\n",
        "  fp = []\n",
        "  fpgen = AllChem.GetMorganGenerator(radius=2)\n",
        "\n",
        "  for smile in smiles:\n",
        "      mol = Chem.MolFromSmiles(smile)\n",
        "      fingerprint = fpgen.GetFingerprint(mol)\n",
        "      fp.append(np.array(fingerprint))\n",
        "\n",
        "#Conver list to Array\n",
        "  fp = np.array(fp)\n",
        "\n",
        "#Convert Fingerprint to pd Dataframe, with each bit becoming a feature\n",
        "  col_names = ['col' + str(i) for i in np.arange(fp.shape[1]) + 1]\n",
        "\n",
        "# Declare and return pandas.DataFrame object\n",
        "  return pd.DataFrame(data=fp, columns=col_names)"
      ],
      "metadata": {
        "id": "IKoGrQsPL0-2"
      },
      "execution_count": 389,
      "outputs": []
    },
    {
      "cell_type": "markdown",
      "source": [
        "***Merge Fingerprints with X_data [Optional?]***"
      ],
      "metadata": {
        "id": "C0I2xnVJvWLj"
      }
    },
    {
      "cell_type": "code",
      "source": [
        "#X_data = pd.concat([X_data_normalized, fingerprints], axis=1)"
      ],
      "metadata": {
        "id": "EZauxPbPvKlG"
      },
      "execution_count": null,
      "outputs": []
    },
    {
      "cell_type": "markdown",
      "source": [
        "***Define Machine Learning Models***\n",
        "\n",
        "---\n",
        "\n"
      ],
      "metadata": {
        "id": "eOML2vyDvzoA"
      }
    },
    {
      "cell_type": "code",
      "source": [
        "def GPR(x_train, x_test, y_train, y_test):\n",
        "\n",
        "  \"\"\"\n",
        "\n",
        "  Args: Training test split.\n",
        "\n",
        "  Returns: None; prints evaluation metrics.\n",
        "\n",
        "  \"\"\"\n",
        "\n",
        "#Initialize kernel and GaussianProcessRegessor, set Max iterations\n",
        "  kernel = C(1.0, (1e-3, 1e3)) * RBF(length_scale=1.0, length_scale_bounds=(1e-2, 1e2))\n",
        "  gpr = GaussianProcessRegressor(kernel=kernel, n_restarts_optimizer=10, random_state=42)\n",
        "  gpr.kernel.optimizer_kwargs = {\"maxiter\": 1000}\n",
        "\n",
        "#Fit to GPR\n",
        "  gpr.fit(x_train, y_train)\n",
        "\n",
        "#Predict Values\n",
        "  y_pred = gpr.predict(x_test)\n",
        "\n",
        "  rmse = root_mean_squared_error(y_test, y_pred)\n",
        "  print(f'RMSE: {rmse}')\n",
        "\n",
        "  # Calculate R^2 score\n",
        "  r2 = r2_score(y_test, y_pred)\n",
        "  print(f\"R^2: {r2}\")\n",
        "\n",
        "  return None"
      ],
      "metadata": {
        "id": "9bmY7WHryPcf"
      },
      "execution_count": null,
      "outputs": []
    },
    {
      "cell_type": "code",
      "source": [
        "def RandomForest(x_train, x_test, y_train, y_test):\n",
        "\n",
        "  \"\"\"\n",
        "\n",
        "  Args: Training test split.\n",
        "\n",
        "  Returns: None; prints evaluation metrics.\n",
        "\n",
        "  \"\"\"\n",
        "\n",
        "#Initialize RandomForestRegressor (This was chosen based on GridSearch for best estimators and hyperparameters)\n",
        "  regressor = RandomForestRegressor(n_estimators=500, max_depth=10, random_state=0, min_samples_leaf=4, min_samples_split=5, bootstrap=False)\n",
        "\n",
        "#Fit to Regressor\n",
        "  regressor.fit(x_train, y_train)\n",
        "\n",
        "#Predict Values\n",
        "  y_pred = regressor.predict(x_test)\n",
        "\n",
        "  mse = mean_squared_error(y_test, y_pred)\n",
        "  print(f'MSE: {mse}')\n",
        "\n",
        "# Calculate R^2 score\n",
        "  r2 = r2_score(y_test, y_pred)\n",
        "  print(f\"R^2: {r2}\")\n",
        "\n",
        "  return None"
      ],
      "metadata": {
        "id": "4CjxIfPo6Ol9"
      },
      "execution_count": 383,
      "outputs": []
    },
    {
      "cell_type": "markdown",
      "source": [
        "***Train-Test Split***\n",
        "\n",
        "---\n",
        "\n"
      ],
      "metadata": {
        "id": "kWfXMiFftNL4"
      }
    },
    {
      "cell_type": "code",
      "source": [
        "fingerprints = SmiletoFingerprint(Data['OPSIN_SMILES'])"
      ],
      "metadata": {
        "id": "h5Cy7212rv9U"
      },
      "execution_count": 390,
      "outputs": []
    },
    {
      "cell_type": "code",
      "source": [
        "#Using Fingerprints only\n",
        "x_train, x_test, y_train, y_test = train_test_split(fingerprints, Y_data, random_state=0, test_size=0.25)"
      ],
      "metadata": {
        "id": "9cgOP3wMx2UM"
      },
      "execution_count": 391,
      "outputs": []
    },
    {
      "cell_type": "markdown",
      "source": [
        "***Predicting permeability using Random Forest***\n",
        "\n",
        "---\n",
        "\n"
      ],
      "metadata": {
        "id": "zKMlKzGbv45Q"
      }
    },
    {
      "cell_type": "code",
      "source": [
        "RandomForest(x_train, x_test, y_train, y_test)"
      ],
      "metadata": {
        "colab": {
          "base_uri": "https://localhost:8080/"
        },
        "id": "ZlClV4XFv9VU",
        "outputId": "09fa7b85-83eb-4b89-c59c-bf6724bdc971"
      },
      "execution_count": 392,
      "outputs": [
        {
          "output_type": "stream",
          "name": "stdout",
          "text": [
            "MSE: 0.43376832604374066\n",
            "R^2: 0.8265329339985183\n"
          ]
        }
      ]
    },
    {
      "cell_type": "markdown",
      "source": [
        "***MOLGX***\n",
        "\n",
        "---\n",
        "\n"
      ],
      "metadata": {
        "id": "BJHjGNJ6ThqX"
      }
    },
    {
      "cell_type": "code",
      "source": [
        "!pip install molgx"
      ],
      "metadata": {
        "colab": {
          "base_uri": "https://localhost:8080/"
        },
        "collapsed": true,
        "id": "Y7DATR3jTwKA",
        "outputId": "5f3908c5-dfff-4416-dd41-5f83d7acea7c"
      },
      "execution_count": 1,
      "outputs": [
        {
          "output_type": "stream",
          "name": "stdout",
          "text": [
            "Requirement already satisfied: molgx in /usr/local/lib/python3.10/site-packages (0.22.0a1)\n",
            "Requirement already satisfied: ipython in /usr/local/lib/python3.10/site-packages (from molgx) (8.30.0)\n",
            "Requirement already satisfied: matplotlib in /usr/local/lib/python3.10/site-packages (from molgx) (3.9.2)\n",
            "Requirement already satisfied: numpy in /usr/local/lib/python3.10/site-packages (from molgx) (2.1.3)\n",
            "Requirement already satisfied: pandas in /usr/local/lib/python3.10/site-packages (from molgx) (2.2.3)\n",
            "Requirement already satisfied: rdkit-pypi in /usr/local/lib/python3.10/site-packages (from molgx) (2022.9.5)\n",
            "Requirement already satisfied: scikit-learn in /usr/local/lib/python3.10/site-packages (from molgx) (1.5.2)\n",
            "Requirement already satisfied: scipy in /usr/local/lib/python3.10/site-packages (from molgx) (1.14.1)\n",
            "Requirement already satisfied: decorator in /usr/local/lib/python3.10/site-packages (from ipython->molgx) (5.1.1)\n",
            "Requirement already satisfied: exceptiongroup in /usr/local/lib/python3.10/site-packages (from ipython->molgx) (1.2.2)\n",
            "Requirement already satisfied: jedi>=0.16 in /usr/local/lib/python3.10/site-packages (from ipython->molgx) (0.19.2)\n",
            "Requirement already satisfied: matplotlib-inline in /usr/local/lib/python3.10/site-packages (from ipython->molgx) (0.1.7)\n",
            "Requirement already satisfied: pexpect>4.3 in /usr/local/lib/python3.10/site-packages (from ipython->molgx) (4.9.0)\n",
            "Requirement already satisfied: prompt_toolkit<3.1.0,>=3.0.41 in /usr/local/lib/python3.10/site-packages (from ipython->molgx) (3.0.48)\n",
            "Requirement already satisfied: pygments>=2.4.0 in /usr/local/lib/python3.10/site-packages (from ipython->molgx) (2.18.0)\n",
            "Requirement already satisfied: stack_data in /usr/local/lib/python3.10/site-packages (from ipython->molgx) (0.6.3)\n",
            "Requirement already satisfied: traitlets>=5.13.0 in /usr/local/lib/python3.10/site-packages (from ipython->molgx) (5.14.3)\n",
            "Requirement already satisfied: typing_extensions>=4.6 in /usr/local/lib/python3.10/site-packages (from ipython->molgx) (4.12.2)\n",
            "Requirement already satisfied: contourpy>=1.0.1 in /usr/local/lib/python3.10/site-packages (from matplotlib->molgx) (1.3.1)\n",
            "Requirement already satisfied: cycler>=0.10 in /usr/local/lib/python3.10/site-packages (from matplotlib->molgx) (0.12.1)\n",
            "Requirement already satisfied: fonttools>=4.22.0 in /usr/local/lib/python3.10/site-packages (from matplotlib->molgx) (4.55.0)\n",
            "Requirement already satisfied: kiwisolver>=1.3.1 in /usr/local/lib/python3.10/site-packages (from matplotlib->molgx) (1.4.7)\n",
            "Requirement already satisfied: packaging>=20.0 in /usr/local/lib/python3.10/site-packages (from matplotlib->molgx) (23.2)\n",
            "Requirement already satisfied: pillow>=8 in /usr/local/lib/python3.10/site-packages (from matplotlib->molgx) (10.3.0)\n",
            "Requirement already satisfied: pyparsing>=2.3.1 in /usr/local/lib/python3.10/site-packages (from matplotlib->molgx) (3.2.0)\n",
            "Requirement already satisfied: python-dateutil>=2.7 in /usr/local/lib/python3.10/site-packages (from matplotlib->molgx) (2.9.0.post0)\n",
            "Requirement already satisfied: pytz>=2020.1 in /usr/local/lib/python3.10/site-packages (from pandas->molgx) (2024.1)\n",
            "Requirement already satisfied: tzdata>=2022.7 in /usr/local/lib/python3.10/site-packages (from pandas->molgx) (2024.2)\n",
            "Requirement already satisfied: joblib>=1.2.0 in /usr/local/lib/python3.10/site-packages (from scikit-learn->molgx) (1.4.2)\n",
            "Requirement already satisfied: threadpoolctl>=3.1.0 in /usr/local/lib/python3.10/site-packages (from scikit-learn->molgx) (3.5.0)\n",
            "Requirement already satisfied: parso<0.9.0,>=0.8.4 in /usr/local/lib/python3.10/site-packages (from jedi>=0.16->ipython->molgx) (0.8.4)\n",
            "Requirement already satisfied: ptyprocess>=0.5 in /usr/local/lib/python3.10/site-packages (from pexpect>4.3->ipython->molgx) (0.7.0)\n",
            "Requirement already satisfied: wcwidth in /usr/local/lib/python3.10/site-packages (from prompt_toolkit<3.1.0,>=3.0.41->ipython->molgx) (0.2.13)\n",
            "Requirement already satisfied: six>=1.5 in /usr/local/lib/python3.10/site-packages (from python-dateutil>=2.7->matplotlib->molgx) (1.16.0)\n",
            "Requirement already satisfied: executing>=1.2.0 in /usr/local/lib/python3.10/site-packages (from stack_data->ipython->molgx) (2.1.0)\n",
            "Requirement already satisfied: asttokens>=2.1.0 in /usr/local/lib/python3.10/site-packages (from stack_data->ipython->molgx) (3.0.0)\n",
            "Requirement already satisfied: pure-eval in /usr/local/lib/python3.10/site-packages (from stack_data->ipython->molgx) (0.2.3)\n"
          ]
        }
      ]
    },
    {
      "cell_type": "code",
      "source": [
        "from molgx import *\n",
        "import pandas as pd\n",
        "import numpy as np"
      ],
      "metadata": {
        "id": "q2Reqty_Tk_P"
      },
      "execution_count": 4,
      "outputs": []
    },
    {
      "cell_type": "markdown",
      "source": [
        "***Define Molgx function to extract features from OPSIN_SMILES***\n",
        "\n",
        "---\n",
        "\n"
      ],
      "metadata": {
        "id": "bmTZ3TC9WQaG"
      }
    },
    {
      "cell_type": "code",
      "source": [
        "def extract_molgx_features(data):\n",
        "  \"\"\"\n",
        "\n",
        "  Args: dataframe containing OPSIN_SMILES, other features, and target.\n",
        "\n",
        "  Returns: data.\n",
        "\n",
        "  \"\"\"\n",
        "\n",
        "\n",
        "#Replace OPSIN SMILES with SMILES\n",
        "  data['SMILES'] = [opsim.replace('[*:1]', '').replace('[*:2]', '') for opsim in data['OPSIN_SMILES']]\n",
        "\n",
        "  df = data.drop(columns=['OPSIN_SMILES'])\n",
        "\n",
        "#Molgx Data conversion\n",
        "  filepath = '/content/molgx_data.csv'\n",
        "  df.to_csv(filepath)\n",
        "\n",
        "  df2 = MolData.read_csv(filepath)\n",
        "\n",
        "#Extract features and merge back to data\n",
        "  fs_atom = df2.extract_features(HeavyAtomExtractor(df2))\n",
        "  fs_ring = df2.extract_features(RingExtractor(df2))\n",
        "  fs_aring = df2.extract_features(AromaticRingExtractor(df2))\n",
        "  fs_fp_structure1 = df2.extract_features(FingerPrintStructureExtractor(df2, radius=1))\n",
        "\n",
        "  mergedfp = df2.merge_features([fs_atom.id, fs_ring.id, fs_aring.id, fs_fp_structure1.id])\n",
        "\n",
        "  return mergedfp, df2"
      ],
      "metadata": {
        "id": "w_mIF0C1TmVa"
      },
      "execution_count": 5,
      "outputs": []
    },
    {
      "cell_type": "code",
      "source": [
        "fp, df = extract_molgx_features(Data)"
      ],
      "metadata": {
        "id": "kCC40Ut8VAJ6"
      },
      "execution_count": 6,
      "outputs": []
    },
    {
      "cell_type": "markdown",
      "source": [
        "***Predicting permeability using Molgx***\n",
        "\n",
        "---\n",
        "\n"
      ],
      "metadata": {
        "id": "UcIxNyTXW0_Z"
      }
    },
    {
      "cell_type": "code",
      "source": [
        "target_property = {\n",
        "'log10(P_CO2(Barrer))': (3, 4)\n",
        "}"
      ],
      "metadata": {
        "id": "aXZpzsCSfQZa"
      },
      "execution_count": 7,
      "outputs": []
    },
    {
      "cell_type": "code",
      "source": [
        "model = df.optimize_and_select_features(\n",
        "    LassoRegressionModel(df, list(target_property.keys())[0], fp))\n",
        "model.plot_estimate('molgx_lasso_tg.png')"
      ],
      "metadata": {
        "colab": {
          "base_uri": "https://localhost:8080/",
          "height": 632
        },
        "id": "qlucwSuNdB4Z",
        "outputId": "184ad8b8-7f16-4fec-fc09-2b3040025f3b"
      },
      "execution_count": 8,
      "outputs": [
        {
          "output_type": "stream",
          "name": "stdout",
          "text": [
            "regression model parameter optimization target='log10(P_CO2(Barrer))': data_size=1169: model:Lasso n_splits=3 shuffle=True\n",
            "optimized parameters: {'alpha': 0.01}\n",
            "regression model cross validation target='log10(P_CO2(Barrer))': data_size=1169: model:Lasso n_splits=3 shuffle=True\n",
            "R^2 score=0.84 cv_score=0.78 (+/- 0.03)\n",
            "feature selection target='log10(P_CO2(Barrer))': data_size=1169: model:Lasso:alpha=0.01:opt threshold=None\n",
            "feature size:191 -> 109\n",
            "regression model cross validation target='log10(P_CO2(Barrer))': data_size=1169: model:Lasso n_splits=3 shuffle=True\n",
            "R^2 score=0.84 cv_score=0.78 (+/- 0.04)\n"
          ]
        },
        {
          "output_type": "display_data",
          "data": {
            "text/plain": [
              "<Figure size 640x480 with 1 Axes>"
            ],
            "image/png": "[encoded data removed]"
          },
          "metadata": {}
        }
      ]
    }
  ]
}